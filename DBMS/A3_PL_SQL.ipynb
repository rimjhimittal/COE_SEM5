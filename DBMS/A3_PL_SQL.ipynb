{
  "nbformat": 4,
  "nbformat_minor": 0,
  "metadata": {
    "colab": {
      "provenance": [],
      "authorship_tag": "ABX9TyOhWcoszRDsQU1qAXSsLaoJ"
    },
    "kernelspec": {
      "name": "python3",
      "display_name": "Python 3"
    },
    "language_info": {
      "name": "python"
    }
  },
  "cells": [
    {
      "cell_type": "markdown",
      "source": [
        "PL/SQL code for local procedure to return multiple values through parameters:"
      ],
      "metadata": {
        "id": "Y02S8lP_-gMD"
      }
    },
    {
      "cell_type": "code",
      "source": [
        "CREATE OR REPLACE PROCEDURE arithmetic_operations(\n",
        "    num1 IN NUMBER, \n",
        "    num2 IN NUMBER, \n",
        "    sum OUT NUMBER, \n",
        "    diff OUT NUMBER, \n",
        "    prod OUT NUMBER, \n",
        "    quotient OUT NUMBER) IS\n",
        "BEGIN\n",
        "    sum := num1 + num2;\n",
        "    diff := num1 - num2;\n",
        "    prod := num1 * num2;\n",
        "    quotient := num1 / num2;\n",
        "END;\n"
      ],
      "metadata": {
        "id": "Ls64rNf0_xc0"
      },
      "execution_count": null,
      "outputs": []
    },
    {
      "cell_type": "markdown",
      "source": [
        "PL/SQL code for local procedure to raise salary and update it to the database:\n"
      ],
      "metadata": {
        "id": "3ocyhy-O_zE-"
      }
    },
    {
      "cell_type": "code",
      "source": [
        "CREATE OR REPLACE PROCEDURE raise_salary(\n",
        "    empid IN NUMBER, \n",
        "    bonus IN NUMBER) IS\n",
        "    current_salary NUMBER;\n",
        "BEGIN\n",
        "    SELECT salary INTO current_salary FROM emp WHERE eno = empid;\n",
        "    UPDATE emp SET salary = current_salary + bonus WHERE eno = empid;\n",
        "    COMMIT;\n",
        "    DBMS_OUTPUT.PUT_LINE('Salary of employee ' || empid || ' has been raised by ' || bonus);\n",
        "END;\n"
      ],
      "metadata": {
        "id": "655BuBrR_4jf"
      },
      "execution_count": null,
      "outputs": []
    },
    {
      "cell_type": "markdown",
      "source": [
        "PL/SQL code for stored procedure to delete employee by employee number:"
      ],
      "metadata": {
        "id": "LfTHVbqQ_6Qt"
      }
    },
    {
      "cell_type": "code",
      "source": [
        "CREATE OR REPLACE PROCEDURE fire_employee(\n",
        "    empid IN NUMBER) IS\n",
        "BEGIN\n",
        "    DELETE FROM emp WHERE eno = empid;\n",
        "    COMMIT;\n",
        "    DBMS_OUTPUT.PUT_LINE('Employee ' || empid || ' has been fired');\n",
        "END;\n"
      ],
      "metadata": {
        "id": "qNtIH1Qv_0cl"
      },
      "execution_count": null,
      "outputs": []
    },
    {
      "cell_type": "markdown",
      "source": [
        "PL/SQL code for local function to return total number of employees in EMP table:\n"
      ],
      "metadata": {
        "id": "aSKZcnXQ_0mG"
      }
    },
    {
      "cell_type": "code",
      "source": [
        "CREATE OR REPLACE FUNCTION get_employee_count RETURN NUMBER IS\n",
        "    employee_count NUMBER;\n",
        "BEGIN\n",
        "    SELECT COUNT(*) INTO employee_count FROM emp;\n",
        "    RETURN employee_count;\n",
        "END;\n"
      ],
      "metadata": {
        "id": "NNwQVyTP_0vD"
      },
      "execution_count": null,
      "outputs": []
    },
    {
      "cell_type": "markdown",
      "source": [
        "PL/SQL code for stored function to add two numbers:\n"
      ],
      "metadata": {
        "id": "1cb1TWfxAIBE"
      }
    },
    {
      "cell_type": "code",
      "source": [
        "CREATE OR REPLACE FUNCTION add_numbers(\n",
        "    num1 IN NUMBER, \n",
        "    num2 IN NUMBER) RETURN NUMBER IS\n",
        "    result NUMBER;\n",
        "BEGIN\n",
        "    result := num1 + num2;\n",
        "    RETURN result;\n",
        "END;\n"
      ],
      "metadata": {
        "id": "FvEV3yWI_1DB"
      },
      "execution_count": null,
      "outputs": []
    },
    {
      "cell_type": "markdown",
      "source": [
        "PL/SQL code for stored function to return the number of records updated by UPDATE statement:\n"
      ],
      "metadata": {
        "id": "ra5UsyyLAKy7"
      }
    },
    {
      "cell_type": "code",
      "source": [
        "CREATE OR REPLACE FUNCTION get_update_count RETURN NUMBER IS\n",
        "    update_count NUMBER;\n",
        "BEGIN\n",
        "    UPDATE emp SET salary = salary + 100 WHERE eno = 100;\n",
        "    update_count := SQL%ROWCOUNT;\n",
        "    RETURN update_count;\n",
        "END;\n"
      ],
      "metadata": {
        "id": "cfx6I_OYAMvL"
      },
      "execution_count": null,
      "outputs": []
    },
    {
      "cell_type": "markdown",
      "source": [
        "PL/SQL code for trigger to convert ENAME column values to uppercase:\n"
      ],
      "metadata": {
        "id": "8PYVSF6RASlm"
      }
    },
    {
      "cell_type": "code",
      "source": [
        "CREATE OR REPLACE TRIGGER convert_ename_to_uppercase\n",
        "BEFORE INSERT OR UPDATE ON emp\n",
        "FOR EACH ROW\n",
        "BEGIN\n",
        "    :NEW.ename := UPPER(:NEW.ename);\n",
        "END;\n"
      ],
      "metadata": {
        "id": "HRu4qallAU02"
      },
      "execution_count": null,
      "outputs": []
    },
    {
      "cell_type": "markdown",
      "source": [
        "PL/SQL code for trigger to show old and new values of ENAME after every update:"
      ],
      "metadata": {
        "id": "SF88dJmZAWHZ"
      }
    },
    {
      "cell_type": "code",
      "source": [
        "CREATE OR REPLACE TRIGGER show_old_new_ename\n",
        "AFTER UPDATE ON emp\n",
        "FOR EACH ROW\n",
        "BEGIN\n",
        "    DBMS_OUTPUT.PUT_LINE('Old value of ENAME: ' || :OLD.ename || ', New value of ENAME: ' || :NEW.ename);\n",
        "END;\n"
      ],
      "metadata": {
        "id": "b_J-21sJAZOo"
      },
      "execution_count": null,
      "outputs": []
    },
    {
      "cell_type": "markdown",
      "source": [
        "PL/SQL code for trigger to prevent operations on EMP table on Sunday:\n"
      ],
      "metadata": {
        "id": "vtGihRLaAatK"
      }
    },
    {
      "cell_type": "code",
      "source": [
        "CREATE OR REPLACE TRIGGER prevent_sunday_operations\n",
        "BEFORE INSERT OR UPDATE OR DELETE ON emp\n",
        "BEGIN\n",
        "    IF TO_CHAR(SYSDATE, 'DAY') = 'SUNDAY' THEN\n",
        "        RAISE_APPLICATION_ERROR(-20001, 'No operations allowed on Sundays');\n",
        "    END IF;\n",
        "END;\n"
      ],
      "metadata": {
        "id": "BQlE54kSAejg"
      },
      "execution_count": null,
      "outputs": []
    },
    {
      "cell_type": "markdown",
      "source": [
        "PL/SQL code for trigger to enforce commission to be less than or equal to salary:\n"
      ],
      "metadata": {
        "id": "r90l3xGXAk5v"
      }
    },
    {
      "cell_type": "code",
      "source": [
        "CREATE OR REPLACE TRIGGER commission_check\n",
        "BEFORE INSERT OR UPDATE ON EMP\n",
        "FOR EACH ROW\n",
        "BEGIN\n",
        "    IF :new.COMMISSION > :new.SALARY THEN\n",
        "        RAISE_APPLICATION_ERROR(-20001, 'Commission cannot be greater than salary.');\n",
        "    END IF;\n",
        "END;\n",
        "/\n"
      ],
      "metadata": {
        "id": "MIsTDSC4AlpZ"
      },
      "execution_count": null,
      "outputs": []
    },
    {
      "cell_type": "markdown",
      "source": [
        "Trigger to implement the primary key constraint on column ENO of table EMP:"
      ],
      "metadata": {
        "id": "7SYg4gcVBF3H"
      }
    },
    {
      "cell_type": "code",
      "source": [
        "CREATE OR REPLACE TRIGGER eno_pk\n",
        "BEFORE INSERT ON EMP\n",
        "FOR EACH ROW\n",
        "DECLARE\n",
        "  l_cnt NUMBER;\n",
        "BEGIN\n",
        "  SELECT COUNT(*)\n",
        "  INTO l_cnt\n",
        "  FROM EMP\n",
        "  WHERE ENO = :NEW.ENO;\n",
        "  IF l_cnt > 0 THEN\n",
        "    RAISE_APPLICATION_ERROR(-20001, 'Duplicate ENO not allowed');\n",
        "  END IF;\n",
        "END;\n",
        "/\n"
      ],
      "metadata": {
        "id": "MEUl3gPqBGgY"
      },
      "execution_count": null,
      "outputs": []
    },
    {
      "cell_type": "markdown",
      "source": [
        "Trigger to implement foreign key constraint on DEPTNO column of EMP table:\n"
      ],
      "metadata": {
        "id": "oDQuqvdEBH9_"
      }
    },
    {
      "cell_type": "code",
      "source": [
        "CREATE OR REPLACE TRIGGER deptno_fk\n",
        "BEFORE INSERT OR UPDATE ON EMP\n",
        "FOR EACH ROW\n",
        "DECLARE\n",
        "  l_cnt NUMBER;\n",
        "BEGIN\n",
        "  SELECT COUNT(*)\n",
        "  INTO l_cnt\n",
        "  FROM DEPT\n",
        "  WHERE DEPTNO = :NEW.DEPTNO;\n",
        "  IF l_cnt = 0 THEN\n",
        "    RAISE_APPLICATION_ERROR(-20001, 'Invalid DEPTNO');\n",
        "  END IF;\n",
        "END;\n",
        "/\n"
      ],
      "metadata": {
        "id": "DdAFUu2mBMTV"
      },
      "execution_count": null,
      "outputs": []
    }
  ]
}
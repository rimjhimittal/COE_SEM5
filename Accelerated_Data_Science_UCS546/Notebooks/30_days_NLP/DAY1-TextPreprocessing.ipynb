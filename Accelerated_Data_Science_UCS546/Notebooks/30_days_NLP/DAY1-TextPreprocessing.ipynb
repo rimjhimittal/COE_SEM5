{
 "cells": [
  {
   "cell_type": "code",
   "execution_count": 1,
   "id": "bc6a18b3-febe-4061-b121-7bf03a8070ba",
   "metadata": {},
   "outputs": [
    {
     "name": "stdout",
     "output_type": "stream",
     "text": [
      "Collecting nltk\n",
      "  Downloading nltk-3.8.1-py3-none-any.whl (1.5 MB)\n",
      "\u001b[2K     \u001b[90m━━━━━━━━━━━━━━━━━━━━━━━━━━━━━━━━━━━━━━━━\u001b[0m \u001b[32m1.5/1.5 MB\u001b[0m \u001b[31m660.2 kB/s\u001b[0m eta \u001b[36m0:00:00\u001b[0m00:01\u001b[0m00:01\u001b[0m\n",
      "\u001b[?25hRequirement already satisfied: click in /opt/homebrew/lib/python3.11/site-packages (from nltk) (8.1.3)\n",
      "Requirement already satisfied: joblib in /opt/homebrew/lib/python3.11/site-packages (from nltk) (1.3.2)\n",
      "Collecting regex>=2021.8.3 (from nltk)\n",
      "  Obtaining dependency information for regex>=2021.8.3 from https://files.pythonhosted.org/packages/03/5e/9a4cabe86a3b4e67bd2cf795a2e84de01c735c8c1c1d88795425847ccbbe/regex-2023.8.8-cp311-cp311-macosx_11_0_arm64.whl.metadata\n",
      "  Downloading regex-2023.8.8-cp311-cp311-macosx_11_0_arm64.whl.metadata (40 kB)\n",
      "\u001b[2K     \u001b[90m━━━━━━━━━━━━━━━━━━━━━━━━━━━━━━━━━━━━━━━\u001b[0m \u001b[32m40.9/40.9 kB\u001b[0m \u001b[31m886.7 kB/s\u001b[0m eta \u001b[36m0:00:00\u001b[0m \u001b[36m0:00:01\u001b[0m\n",
      "\u001b[?25hRequirement already satisfied: tqdm in /opt/homebrew/lib/python3.11/site-packages (from nltk) (4.66.1)\n",
      "Downloading regex-2023.8.8-cp311-cp311-macosx_11_0_arm64.whl (289 kB)\n",
      "\u001b[2K   \u001b[90m━━━━━━━━━━━━━━━━━━━━━━━━━━━━━━━━━━━━━━━\u001b[0m \u001b[32m289.3/289.3 kB\u001b[0m \u001b[31m575.5 kB/s\u001b[0m eta \u001b[36m0:00:00\u001b[0ma \u001b[36m0:00:01\u001b[0m\n",
      "\u001b[?25hInstalling collected packages: regex, nltk\n",
      "Successfully installed nltk-3.8.1 regex-2023.8.8\n"
     ]
    }
   ],
   "source": [
    "!pip install nltk"
   ]
  },
  {
   "cell_type": "code",
   "execution_count": 2,
   "id": "09e1d962-efd4-4cfa-9452-de2732524a8a",
   "metadata": {},
   "outputs": [],
   "source": [
    "paragraph = \"\"\"Vetting refers to the process of carefully examining and evaluating someone or something to determine their suitability, authenticity, qualifications, or credibility. It is often used in various contexts, including hiring employees, selecting candidates for a position, assessing the reliability of information, or reviewing the qualifications of individuals or organizations.In the context of hiring, vetting typically involves checking a person's background, references, credentials, and qualifications to ensure that they meet the requirements and standards for a particular job or role. This process helps employers make informed decisions about the individuals they hire.In the context of information or news, vetting involves verifying the accuracy and reliability of the information or sources. Journalists and researchers, for example, may vet their sources and data to ensure that the information they present is trustworthy and accurate.\"\"\"\n"
   ]
  },
  {
   "cell_type": "code",
   "execution_count": 116,
   "id": "3ce0180f-42a1-4056-b93f-b8e891b07249",
   "metadata": {},
   "outputs": [
    {
     "data": {
      "text/plain": [
       "\"Vetting refers to the process of carefully examining and evaluating someone or something to determine their suitability, authenticity, qualifications, or credibility. It is often used in various contexts, including hiring employees, selecting candidates for a position, assessing the reliability of information, or reviewing the qualifications of individuals or organizations.In the context of hiring, vetting typically involves checking a person's background, references, credentials, and qualifications to ensure that they meet the requirements and standards for a particular job or role. This process helps employers make informed decisions about the individuals they hire.In the context of information or news, vetting involves verifying the accuracy and reliability of the information or sources. Journalists and researchers, for example, may vet their sources and data to ensure that the information they present is trustworthy and accurate.\""
      ]
     },
     "execution_count": 116,
     "metadata": {},
     "output_type": "execute_result"
    }
   ],
   "source": [
    "paragraph"
   ]
  },
  {
   "cell_type": "code",
   "execution_count": 117,
   "id": "a275eed0-c8b9-44c6-b3b0-2bcaa91b1067",
   "metadata": {},
   "outputs": [],
   "source": [
    "import nltk\n",
    "from nltk.stem import PorterStemmer\n",
    "from nltk.corpus import stopwords"
   ]
  },
  {
   "cell_type": "code",
   "execution_count": 118,
   "id": "349c2d64-f3e6-489d-a905-8e9c15c0f9f2",
   "metadata": {},
   "outputs": [
    {
     "name": "stderr",
     "output_type": "stream",
     "text": [
      "[nltk_data] Downloading package punkt to /Users/rimjhim/nltk_data...\n",
      "[nltk_data]   Package punkt is already up-to-date!\n"
     ]
    }
   ],
   "source": [
    "### -- tokenisation -> converts paragraph-> sentence-> words\n",
    "nltk.download('punkt')#divides a text into a list of sentences\n",
    "sentences = nltk.sent_tokenize(paragraph)#returns a sentence tokenize copy"
   ]
  },
  {
   "cell_type": "code",
   "execution_count": 119,
   "id": "0c7d9f56-5bc0-49f1-bbf8-3810d8455d3e",
   "metadata": {},
   "outputs": [
    {
     "data": {
      "text/plain": [
       "['Vetting refers to the process of carefully examining and evaluating someone or something to determine their suitability, authenticity, qualifications, or credibility.',\n",
       " \"It is often used in various contexts, including hiring employees, selecting candidates for a position, assessing the reliability of information, or reviewing the qualifications of individuals or organizations.In the context of hiring, vetting typically involves checking a person's background, references, credentials, and qualifications to ensure that they meet the requirements and standards for a particular job or role.\",\n",
       " 'This process helps employers make informed decisions about the individuals they hire.In the context of information or news, vetting involves verifying the accuracy and reliability of the information or sources.',\n",
       " 'Journalists and researchers, for example, may vet their sources and data to ensure that the information they present is trustworthy and accurate.']"
      ]
     },
     "execution_count": 119,
     "metadata": {},
     "output_type": "execute_result"
    }
   ],
   "source": [
    "sentences"
   ]
  },
  {
   "cell_type": "code",
   "execution_count": 120,
   "id": "bf841340-9d62-4403-a00c-263fb106ffe6",
   "metadata": {},
   "outputs": [
    {
     "data": {
      "text/plain": [
       "list"
      ]
     },
     "execution_count": 120,
     "metadata": {},
     "output_type": "execute_result"
    }
   ],
   "source": [
    "type(sentences)"
   ]
  },
  {
   "cell_type": "code",
   "execution_count": 121,
   "id": "de42a69c-6196-422e-9152-49b02b0962c4",
   "metadata": {},
   "outputs": [],
   "source": [
    "stemmer=PorterStemmer()"
   ]
  },
  {
   "cell_type": "code",
   "execution_count": 122,
   "id": "6da64cbf-9ddb-4633-b5c9-de0b29898270",
   "metadata": {},
   "outputs": [
    {
     "data": {
      "text/plain": [
       "'halllucin'"
      ]
     },
     "execution_count": 122,
     "metadata": {},
     "output_type": "execute_result"
    }
   ],
   "source": [
    "stemmer.stem('halllucinating')"
   ]
  },
  {
   "cell_type": "code",
   "execution_count": 123,
   "id": "16b0f7db-e33f-405f-afc5-a544e8678154",
   "metadata": {},
   "outputs": [
    {
     "data": {
      "text/plain": [
       "'histori'"
      ]
     },
     "execution_count": 123,
     "metadata": {},
     "output_type": "execute_result"
    }
   ],
   "source": [
    "stemmer.stem('history')"
   ]
  },
  {
   "cell_type": "code",
   "execution_count": 124,
   "id": "2d2beead-6fc2-4477-9ce3-3e6af3d59e54",
   "metadata": {},
   "outputs": [
    {
     "name": "stderr",
     "output_type": "stream",
     "text": [
      "[nltk_data] Downloading package wordnet to /Users/rimjhim/nltk_data...\n",
      "[nltk_data]   Package wordnet is already up-to-date!\n"
     ]
    },
    {
     "data": {
      "text/plain": [
       "True"
      ]
     },
     "execution_count": 124,
     "metadata": {},
     "output_type": "execute_result"
    }
   ],
   "source": [
    "nltk.download('wordnet')"
   ]
  },
  {
   "cell_type": "code",
   "execution_count": 125,
   "id": "3bd23322-93d9-4918-adf0-59b8e3c9039c",
   "metadata": {},
   "outputs": [],
   "source": [
    "from nltk.stem import WordNetLemmatizer"
   ]
  },
  {
   "cell_type": "code",
   "execution_count": 126,
   "id": "7cd1eb40-6b28-4460-9f3d-239b25b32037",
   "metadata": {},
   "outputs": [],
   "source": [
    "lemmatizer= WordNetLemmatizer()"
   ]
  },
  {
   "cell_type": "code",
   "execution_count": 130,
   "id": "d442e71a-570e-4c0d-82fa-3de078ae2a1a",
   "metadata": {},
   "outputs": [
    {
     "data": {
      "text/plain": [
       "4"
      ]
     },
     "execution_count": 130,
     "metadata": {},
     "output_type": "execute_result"
    }
   ],
   "source": [
    "len(sentences)"
   ]
  },
  {
   "cell_type": "code",
   "execution_count": 147,
   "id": "d449cd03-f0c3-4aa7-aba9-beb5119418f7",
   "metadata": {},
   "outputs": [],
   "source": [
    "import re #regular expression for cleaning the data\n",
    "corpus = []\n",
    "#normalisation\n",
    "for i in range(len(sentences)):\n",
    "    review = re.sub('[^a-zA-Z]', ' ', sentences[i]) #replace 1 by 2 in 3, ^ means 'everything other than'\n",
    "    review = review.lower()\n",
    "    review.split()\n",
    "    # review = [lemmatizer.lemmatize(word) for word in review if not word in set(stopwords.words('english'))]\n",
    "    # review = ''.join(review)\n",
    "    corpus.append(review)"
   ]
  },
  {
   "cell_type": "code",
   "execution_count": 148,
   "id": "9f78e2bd-d35d-4356-bc58-97ecb123ee6d",
   "metadata": {},
   "outputs": [
    {
     "data": {
      "text/plain": [
       "['vetting refers to the process of carefully examining and evaluating someone or something to determine their suitability  authenticity  qualifications  or credibility ',\n",
       " 'it is often used in various contexts  including hiring employees  selecting candidates for a position  assessing the reliability of information  or reviewing the qualifications of individuals or organizations in the context of hiring  vetting typically involves checking a person s background  references  credentials  and qualifications to ensure that they meet the requirements and standards for a particular job or role ',\n",
       " 'this process helps employers make informed decisions about the individuals they hire in the context of information or news  vetting involves verifying the accuracy and reliability of the information or sources ',\n",
       " 'journalists and researchers  for example  may vet their sources and data to ensure that the information they present is trustworthy and accurate ']"
      ]
     },
     "execution_count": 148,
     "metadata": {},
     "output_type": "execute_result"
    }
   ],
   "source": [
    "corpus"
   ]
  },
  {
   "cell_type": "code",
   "execution_count": 149,
   "id": "51a5cdab-1bf3-4fdc-a9a7-647fb34ea9f0",
   "metadata": {},
   "outputs": [
    {
     "name": "stderr",
     "output_type": "stream",
     "text": [
      "[nltk_data] Downloading package stopwords to\n",
      "[nltk_data]     /Users/rimjhim/nltk_data...\n",
      "[nltk_data]   Package stopwords is already up-to-date!\n"
     ]
    },
    {
     "data": {
      "text/plain": [
       "True"
      ]
     },
     "execution_count": 149,
     "metadata": {},
     "output_type": "execute_result"
    }
   ],
   "source": [
    "nltk.download('stopwords')"
   ]
  },
  {
   "cell_type": "code",
   "execution_count": 156,
   "id": "1cb34aa7-05f2-4823-b32b-62784c7e3dde",
   "metadata": {},
   "outputs": [
    {
     "name": "stdout",
     "output_type": "stream",
     "text": [
      "vet refer process care examin evalu someon someth determin suitabl authent qualif credibl often use variou context includ hire employe select candid posit assess reliabl inform review qualif individu organ context hire vet typic involv check person background refer credenti qualif ensur meet requir standard particular job role process help employ make inform decis individu hire context inform news vet involv verifi accuraci reliabl inform sourc journalist research exampl may vet sourc data ensur inform present trustworthi accur "
     ]
    }
   ],
   "source": [
    "for i in corpus:\n",
    "    words = nltk.word_tokenize(i)#tokenise\n",
    "    for word in words:\n",
    "        if word not in set(stopwords.words('english')):#stopword removal\n",
    "            print(stemmer.stem(word), end = ' ') # "
   ]
  },
  {
   "cell_type": "code",
   "execution_count": 152,
   "id": "fac3d0fa-fa05-45d1-bd72-337eba120bbb",
   "metadata": {},
   "outputs": [
    {
     "name": "stdout",
     "output_type": "stream",
     "text": [
      "['i', 'me', 'my', 'myself', 'we', 'our', 'ours', 'ourselves', 'you', \"you're\", \"you've\", \"you'll\", \"you'd\", 'your', 'yours', 'yourself', 'yourselves', 'he', 'him', 'his', 'himself', 'she', \"she's\", 'her', 'hers', 'herself', 'it', \"it's\", 'its', 'itself', 'they', 'them', 'their', 'theirs', 'themselves', 'what', 'which', 'who', 'whom', 'this', 'that', \"that'll\", 'these', 'those', 'am', 'is', 'are', 'was', 'were', 'be', 'been', 'being', 'have', 'has', 'had', 'having', 'do', 'does', 'did', 'doing', 'a', 'an', 'the', 'and', 'but', 'if', 'or', 'because', 'as', 'until', 'while', 'of', 'at', 'by', 'for', 'with', 'about', 'against', 'between', 'into', 'through', 'during', 'before', 'after', 'above', 'below', 'to', 'from', 'up', 'down', 'in', 'out', 'on', 'off', 'over', 'under', 'again', 'further', 'then', 'once', 'here', 'there', 'when', 'where', 'why', 'how', 'all', 'any', 'both', 'each', 'few', 'more', 'most', 'other', 'some', 'such', 'no', 'nor', 'not', 'only', 'own', 'same', 'so', 'than', 'too', 'very', 's', 't', 'can', 'will', 'just', 'don', \"don't\", 'should', \"should've\", 'now', 'd', 'll', 'm', 'o', 're', 've', 'y', 'ain', 'aren', \"aren't\", 'couldn', \"couldn't\", 'didn', \"didn't\", 'doesn', \"doesn't\", 'hadn', \"hadn't\", 'hasn', \"hasn't\", 'haven', \"haven't\", 'isn', \"isn't\", 'ma', 'mightn', \"mightn't\", 'mustn', \"mustn't\", 'needn', \"needn't\", 'shan', \"shan't\", 'shouldn', \"shouldn't\", 'wasn', \"wasn't\", 'weren', \"weren't\", 'won', \"won't\", 'wouldn', \"wouldn't\"] "
     ]
    }
   ],
   "source": [
    "print(stopwords.words('english'), end = ' ')"
   ]
  },
  {
   "cell_type": "code",
   "execution_count": 155,
   "id": "d22206e3-5c1a-4d70-8417-107361ddc669",
   "metadata": {},
   "outputs": [
    {
     "name": "stdout",
     "output_type": "stream",
     "text": [
      "vetting refers process carefully examining evaluating someone something determine suitability authenticity qualification credibility often used various context including hiring employee selecting candidate position assessing reliability information reviewing qualification individual organization context hiring vetting typically involves checking person background reference credential qualification ensure meet requirement standard particular job role process help employer make informed decision individual hire context information news vetting involves verifying accuracy reliability information source journalist researcher example may vet source data ensure information present trustworthy accurate "
     ]
    }
   ],
   "source": [
    "for i in corpus:\n",
    "    words = nltk.word_tokenize(i)#tokenise\n",
    "    for word in words:\n",
    "        if word not in set(stopwords.words('english')):#stopword removal\n",
    "            print(lemmatizer.lemmatize(word), end = ' ') #stemming"
   ]
  },
  {
   "cell_type": "code",
   "execution_count": 157,
   "id": "ec97be69-e982-4c2a-9cef-fb6898cac84f",
   "metadata": {},
   "outputs": [],
   "source": [
    "from sklearn.feature_extraction.text import CountVectorizer\n",
    "cv = CountVectorizer(binary =True)"
   ]
  },
  {
   "cell_type": "code",
   "execution_count": 158,
   "id": "5e9be264-e378-474b-9922-cbb094153f64",
   "metadata": {},
   "outputs": [],
   "source": [
    "x= cv.fit_transform(corpus)"
   ]
  },
  {
   "cell_type": "code",
   "execution_count": 159,
   "id": "f664ba42-fcbb-4c2a-a833-482068f240d6",
   "metadata": {},
   "outputs": [
    {
     "data": {
      "text/plain": [
       "{'vetting': 76,\n",
       " 'refers': 52,\n",
       " 'to': 69,\n",
       " 'the': 65,\n",
       " 'process': 49,\n",
       " 'of': 41,\n",
       " 'carefully': 8,\n",
       " 'examining': 21,\n",
       " 'and': 3,\n",
       " 'evaluating': 20,\n",
       " 'someone': 59,\n",
       " 'or': 43,\n",
       " 'something': 60,\n",
       " 'determine': 16,\n",
       " 'their': 66,\n",
       " 'suitability': 63,\n",
       " 'authenticity': 5,\n",
       " 'qualifications': 50,\n",
       " 'credibility': 13,\n",
       " 'it': 34,\n",
       " 'is': 33,\n",
       " 'often': 42,\n",
       " 'used': 72,\n",
       " 'in': 27,\n",
       " 'various': 73,\n",
       " 'contexts': 11,\n",
       " 'including': 28,\n",
       " 'hiring': 26,\n",
       " 'employees': 17,\n",
       " 'selecting': 58,\n",
       " 'candidates': 7,\n",
       " 'for': 23,\n",
       " 'position': 47,\n",
       " 'assessing': 4,\n",
       " 'reliability': 53,\n",
       " 'information': 30,\n",
       " 'reviewing': 56,\n",
       " 'individuals': 29,\n",
       " 'organizations': 44,\n",
       " 'context': 10,\n",
       " 'typically': 71,\n",
       " 'involves': 32,\n",
       " 'checking': 9,\n",
       " 'person': 46,\n",
       " 'background': 6,\n",
       " 'references': 51,\n",
       " 'credentials': 12,\n",
       " 'ensure': 19,\n",
       " 'that': 64,\n",
       " 'they': 67,\n",
       " 'meet': 39,\n",
       " 'requirements': 54,\n",
       " 'standards': 62,\n",
       " 'particular': 45,\n",
       " 'job': 35,\n",
       " 'role': 57,\n",
       " 'this': 68,\n",
       " 'helps': 24,\n",
       " 'employers': 18,\n",
       " 'make': 37,\n",
       " 'informed': 31,\n",
       " 'decisions': 15,\n",
       " 'about': 0,\n",
       " 'hire': 25,\n",
       " 'news': 40,\n",
       " 'verifying': 74,\n",
       " 'accuracy': 1,\n",
       " 'sources': 61,\n",
       " 'journalists': 36,\n",
       " 'researchers': 55,\n",
       " 'example': 22,\n",
       " 'may': 38,\n",
       " 'vet': 75,\n",
       " 'data': 14,\n",
       " 'present': 48,\n",
       " 'trustworthy': 70,\n",
       " 'accurate': 2}"
      ]
     },
     "execution_count": 159,
     "metadata": {},
     "output_type": "execute_result"
    }
   ],
   "source": [
    "cv.vocabulary_"
   ]
  },
  {
   "cell_type": "code",
   "execution_count": 160,
   "id": "6b00f5ab-a9a8-4637-a1d6-570124b2e7a9",
   "metadata": {},
   "outputs": [
    {
     "data": {
      "text/plain": [
       "array([[0, 0, 0, 1, 0, 1, 0, 0, 1, 0, 0, 0, 0, 1, 0, 0, 1, 0, 0, 0, 1, 1,\n",
       "        0, 0, 0, 0, 0, 0, 0, 0, 0, 0, 0, 0, 0, 0, 0, 0, 0, 0, 0, 1, 0, 1,\n",
       "        0, 0, 0, 0, 0, 1, 1, 0, 1, 0, 0, 0, 0, 0, 0, 1, 1, 0, 0, 1, 0, 1,\n",
       "        1, 0, 0, 1, 0, 0, 0, 0, 0, 0, 1]])"
      ]
     },
     "execution_count": 160,
     "metadata": {},
     "output_type": "execute_result"
    }
   ],
   "source": [
    "x[0].toarray()"
   ]
  },
  {
   "cell_type": "code",
   "execution_count": 161,
   "id": "fbb7ef46-37d1-4018-9629-6c2d63112978",
   "metadata": {},
   "outputs": [
    {
     "data": {
      "text/plain": [
       "'vetting refers to the process of carefully examining and evaluating someone or something to determine their suitability  authenticity  qualifications  or credibility '"
      ]
     },
     "execution_count": 161,
     "metadata": {},
     "output_type": "execute_result"
    }
   ],
   "source": [
    "corpus[0]"
   ]
  }
 ],
 "metadata": {
  "kernelspec": {
   "display_name": "Python 3 (ipykernel)",
   "language": "python",
   "name": "python3"
  },
  "language_info": {
   "codemirror_mode": {
    "name": "ipython",
    "version": 3
   },
   "file_extension": ".py",
   "mimetype": "text/x-python",
   "name": "python",
   "nbconvert_exporter": "python",
   "pygments_lexer": "ipython3",
   "version": "3.11.5"
  }
 },
 "nbformat": 4,
 "nbformat_minor": 5
}

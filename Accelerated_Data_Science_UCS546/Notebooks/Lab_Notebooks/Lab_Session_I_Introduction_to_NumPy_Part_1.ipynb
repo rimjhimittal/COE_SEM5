{
  "cells": [
    {
      "cell_type": "markdown",
      "metadata": {
        "id": "_uFZCraDmy5c"
      },
      "source": [
        "# NumPy (Numerical Python)\n",
        "1. NumPy is the fundamental package for scientific computing in Python.\n",
        "2. It is a Python library that provides a multidimensional array object, various derived objects (such as masked arrays and matrices),\n",
        "3. An assortment of routines for fast operations on arrays, including mathematical, logical, shape manipulation, sorting, selecting, I/O, discrete Fourier transforms, basic linear algebra, basic statistical operations, and many more.\n",
        "4. At the core of the NumPy package, is the ndarray object. This encapsulates n-dimensional arrays of homogeneous data types, with many operations being performed in compiled code for performance."
      ]
    },
    {
      "cell_type": "markdown",
      "metadata": {
        "id": "SNTtRqK1my5f"
      },
      "source": [
        "![1.png](attachment:1.png)"
      ]
    },
    {
      "cell_type": "markdown",
      "metadata": {
        "id": "jS4jUUqtmy5g"
      },
      "source": [
        "# NumPy Array vs. Python Sequneces\n",
        "1. NumPy arrays have a fixed size at creation, unlike Python lists (which can grow dynamically)\n",
        "2. NumPy arrays facilitate advanced mathematical and other types of operations on large numbers of data. Typically, such operations are executed more efficiently and with less code than is possible using Python’s built-in sequences."
      ]
    },
    {
      "cell_type": "markdown",
      "metadata": {
        "id": "yfGqcm_vmy5g"
      },
      "source": [
        "# Installing and Importing NumPy\n",
        "1. NumPy can be installed with conda, with pip\n",
        "2. If we use conda, we can install NumPy as : conda install numpy\n",
        "3. If we use pip, we can install NumPy as : pip install numpy\n",
        "4. Once the package has been installed, it need to be imported."
      ]
    },
    {
      "cell_type": "code",
      "execution_count": null,
      "metadata": {
        "id": "1TjcQNIXmy5h",
        "outputId": "041dc30f-b854-4521-8465-5c302f1eda90"
      },
      "outputs": [
        {
          "name": "stdout",
          "output_type": "stream",
          "text": [
            "Requirement already satisfied: numpy in c:\\users\\jasme\\anaconda3\\lib\\site-packages (1.18.1)\n"
          ]
        }
      ],
      "source": [
        "!pip install numpy\n",
        "import numpy as np"
      ]
    },
    {
      "cell_type": "markdown",
      "metadata": {
        "id": "5x5RCyAHmy5j"
      },
      "source": [
        "# NumPy Array Basics\n",
        "NumPy’s array class is called ndarray. It is also known by the alias array. The more important attributes of an ndarray object are:\n",
        "1. ndarray.ndim- the number of axes (dimensions) of the array\n",
        "2. ndarray.shape- the dimensions of the array. This is a tuple of integers indicating the size of the array in each dimension.\n",
        "3. ndarray.size- the total number of elements of the array. This is equal to the product of the elements of shape.\n",
        "4. ndarray.dtype- an object describing the type of the elements in the array. NumPy provides types of its own. numpy.int32, numpy.int16, and numpy.float64 are some examples.\n",
        "5. ndarray.itemsize- the size in bytes of each element of the array. For example, an array of elements of type float64 has itemsize 8 (=64/8)\n",
        "6. ndarray.data-the buffer containing the actual elements of the array."
      ]
    },
    {
      "cell_type": "markdown",
      "metadata": {
        "id": "bMOFnlKfmy5j"
      },
      "source": [
        "# Creating Arrays\n",
        "There are 6 general mechanisms for creating arrays:\n",
        "1. Conversion from other Python structures (i.e. lists and tuples)\n",
        "2. Intrinsic NumPy array creation functions (e.g. arange, ones, zeros, etc.)\n",
        "3. Replicating, joining, or mutating existing arrays\n",
        "4. Reading arrays from disk, either from standard or custom formats\n",
        "5. Using Random Sampling\n",
        "6. Use of special library functions (e.g., Pandas, scipy)"
      ]
    },
    {
      "cell_type": "markdown",
      "metadata": {
        "id": "2-Qu1Zfwmy5k"
      },
      "source": [
        "# 1. Creating Arrays- From Python Sequneces\n",
        "NumPy arrays can be defined using Python sequences such as lists and tuples. Lists and tuples are defined using [...] and (...), respectively.\n",
        "Lists and tuples can define ndarray creation:\n",
        "1. a list of numbers will create a 1D array,\n",
        "2. a list of lists will create a 2D array,\n",
        "3. further nested lists will create higher-dimensional arrays. In general, any array object is called an ndarray in NumPy."
      ]
    },
    {
      "cell_type": "code",
      "execution_count": null,
      "metadata": {
        "id": "d1w2K2UMmy5k"
      },
      "outputs": [],
      "source": [
        "a1D = np.array([1, 2, 3, 4])\n",
        "a2D = np.array([[1, 2], [3, 4]])\n",
        "a3D = np.array([[[1, 2], [3, 4]],\n",
        "                    [[5, 6], [7, 8]]])"
      ]
    },
    {
      "cell_type": "code",
      "execution_count": null,
      "metadata": {
        "id": "42hRGPEfmy5k",
        "outputId": "a25d0c81-1fee-46cf-fc21-b260cd2045e2"
      },
      "outputs": [
        {
          "name": "stdout",
          "output_type": "stream",
          "text": [
            "[[1 2]\n",
            " [3 4]]\n"
          ]
        }
      ],
      "source": [
        "print(a2D)"
      ]
    },
    {
      "cell_type": "code",
      "execution_count": null,
      "metadata": {
        "id": "CJdoQCX8my5l",
        "outputId": "5d311ea4-895e-4d68-a503-2201ef045728"
      },
      "outputs": [
        {
          "name": "stdout",
          "output_type": "stream",
          "text": [
            "[[[1 2]\n",
            "  [3 4]]\n",
            "\n",
            " [[5 6]\n",
            "  [7 8]]]\n"
          ]
        }
      ],
      "source": [
        "print(a3D)"
      ]
    },
    {
      "cell_type": "code",
      "execution_count": null,
      "metadata": {
        "id": "hAAQh-xrmy5l",
        "outputId": "9ea49cc0-1e25-4e0a-9712-efb1c7630a8d"
      },
      "outputs": [
        {
          "name": "stdout",
          "output_type": "stream",
          "text": [
            "Dimensions- 3\n",
            "Shape- (2, 2, 2)\n",
            "Size- 8\n",
            "Dtype- int32\n",
            "ItemSize- 4\n"
          ]
        }
      ],
      "source": [
        "print('Dimensions-',a3D.ndim)\n",
        "print('Shape-',a3D.shape)\n",
        "print('Size-',a3D.size)\n",
        "print('Dtype-',a3D.dtype)\n",
        "print('ItemSize-',a3D.itemsize)"
      ]
    },
    {
      "cell_type": "markdown",
      "metadata": {
        "id": "LIiYkaExmy5l"
      },
      "source": [
        "# 2. Creating Arrays- Intrinsic Functions\n",
        "NumPy has over 40 built-in functions for creating arrays as laid out in the Array creation routines.\n",
        "These functions can be split into roughly three categories, based on the dimension of the array they create:\n",
        "1. 1D arrays\n",
        "2. 2D arrays\n",
        "3. ndarrays"
      ]
    },
    {
      "cell_type": "markdown",
      "metadata": {
        "id": "rVaWiI_Bmy5l"
      },
      "source": [
        "# 2.1-1D Array Creation Functions\n",
        "The 1D array creation functions e.g. numpy.linspace and numpy.arange generally need at least two inputs, start and stop.\n"
      ]
    },
    {
      "cell_type": "markdown",
      "metadata": {
        "id": "jrq2tHlJmy5l"
      },
      "source": [
        "# numpy.arange\n",
        "numpy.arange creates arrays with regularly incrementing values.\n",
        "1. Syntax: numpy.arange([start, ]stop, [step, ], dtype=None, like=None)"
      ]
    },
    {
      "cell_type": "code",
      "execution_count": null,
      "metadata": {
        "id": "887IPfQnmy5l",
        "outputId": "bce79319-6f62-4f73-fe52-726df558c8ea"
      },
      "outputs": [
        {
          "name": "stdout",
          "output_type": "stream",
          "text": [
            "[0 1 2 3 4 5 6 7 8 9]\n",
            "[2. 3. 4. 5. 6. 7. 8. 9.]\n",
            "[2.  2.1 2.2 2.3 2.4 2.5 2.6 2.7 2.8 2.9]\n"
          ]
        }
      ],
      "source": [
        "a=np.arange(10)\n",
        "b=np.arange(2, 10, dtype=float)\n",
        "c=np.arange(2, 3, 0.1)\n",
        "print(a)\n",
        "print(b)\n",
        "print(c)"
      ]
    },
    {
      "cell_type": "markdown",
      "metadata": {
        "id": "i_hbyizRmy5m"
      },
      "source": [
        "# numpy.linspace\n",
        "It will create arrays with a specified number of elements, and spaced equally between the specified beginning and end values.\n",
        "1. Syntax: numpy.linspace(start, stop, num=50, endpoint=True, retstep=False, dtype= None, axis=0)"
      ]
    },
    {
      "cell_type": "code",
      "execution_count": null,
      "metadata": {
        "id": "fHWQ915Mmy5m",
        "outputId": "c13044fb-f90a-4172-8d88-77914a00b822"
      },
      "outputs": [
        {
          "data": {
            "text/plain": [
              "(array([1. , 1.6, 2.2, 2.8, 3.4, 4. ]), 0.6)"
            ]
          },
          "execution_count": 6,
          "metadata": {},
          "output_type": "execute_result"
        }
      ],
      "source": [
        "np.linspace(1., 4., 6,retstep=True)"
      ]
    },
    {
      "cell_type": "markdown",
      "metadata": {
        "id": "80-da9k6my5m"
      },
      "source": [
        "# 2.2-2D array creation functions\n",
        "The 2D array creation functions e.g. numpy.eye, numpy.diag, and numpy.vander define properties of special matrices represented as 2D arrays."
      ]
    },
    {
      "cell_type": "markdown",
      "metadata": {
        "id": "--yZTVD9my5m"
      },
      "source": [
        "# numy.eye\n",
        "np.eye(n, m) defines a 2D identity matrix.\n",
        "1. Syntax: numpy.eye(N, M=None, k=0, dtype=, order=‘C or F', *, like=None)\n",
        " k denotes Index of the diagonal: 0 (the default) refers to the main diagonal, a positive value refers to an upper diagonal, and a negative value to a lower diagonal.\n"
      ]
    },
    {
      "cell_type": "code",
      "execution_count": null,
      "metadata": {
        "id": "rR9J6zA6my5m",
        "outputId": "d6d49265-d590-46b1-fd12-4de6cc573d32"
      },
      "outputs": [
        {
          "name": "stdout",
          "output_type": "stream",
          "text": [
            "[[1 0 0]\n",
            " [0 1 0]\n",
            " [0 0 1]]\n",
            "[[0. 0. 1. 0. 0.]\n",
            " [0. 0. 0. 1. 0.]\n",
            " [0. 0. 0. 0. 1.]]\n"
          ]
        }
      ],
      "source": [
        "import numpy as np\n",
        "a=np.eye(3,dtype=np.int)\n",
        "b=np.eye(3, 5,k=2,dtype=np.float)\n",
        "print(a)\n",
        "print(b)"
      ]
    },
    {
      "cell_type": "markdown",
      "metadata": {
        "id": "KHNKMYaymy5m"
      },
      "source": [
        "# numpy.diag\n",
        "numpy.diag Extract a diagonal or construct a diagonal array.\n",
        "1. Syntax: numpy.diag(v, k=0)\n",
        " If v is a 2-D array, return a copy of its k-th diagonal. If v is a 1-D array, return a 2-D array with v on the k-th diagonal.\n"
      ]
    },
    {
      "cell_type": "code",
      "execution_count": null,
      "metadata": {
        "id": "TrPsjH5_my5m",
        "outputId": "6ebc41fc-2960-44e9-c4ad-03b03e54a787"
      },
      "outputs": [
        {
          "data": {
            "text/plain": [
              "array([[0, 1, 0, 0],\n",
              "       [0, 0, 2, 0],\n",
              "       [0, 0, 0, 3],\n",
              "       [0, 0, 0, 0]])"
            ]
          },
          "execution_count": 6,
          "metadata": {},
          "output_type": "execute_result"
        }
      ],
      "source": [
        "np.diag([1, 2, 3],k=1)"
      ]
    },
    {
      "cell_type": "code",
      "execution_count": null,
      "metadata": {
        "id": "-66D8OzWmy5m",
        "outputId": "de6f16f0-b90a-4835-b459-435cede79d4a"
      },
      "outputs": [
        {
          "data": {
            "text/plain": [
              "array([1, 4])"
            ]
          },
          "execution_count": 11,
          "metadata": {},
          "output_type": "execute_result"
        }
      ],
      "source": [
        "a = np.array([[1, 2], [3, 4]])\n",
        "np.diag(a)\n"
      ]
    },
    {
      "cell_type": "markdown",
      "metadata": {
        "id": "nc15soIjmy5n"
      },
      "source": [
        "# numpy.vander\n",
        "numpy.vander  constructs a  Vandermonde matrix i.e. the columns of the output matrix are powers of the input vector.\n",
        "Syntax: numpy.vander(x, N=None, increasing =False)\n",
        " Parameters: x: 1-D array, N= Number of columns  (default  square array with N=len(x);  Increasing- Order of the powers of the columns. If True, the powers increase from left to right, if False (the default) they are reversed."
      ]
    },
    {
      "cell_type": "code",
      "execution_count": null,
      "metadata": {
        "id": "8Gg3CJ5Zmy5n",
        "outputId": "3ad782ce-255b-436c-9e03-fd75a387d29e"
      },
      "outputs": [
        {
          "name": "stdout",
          "output_type": "stream",
          "text": [
            "[0.  0.5 1.  1.5 2. ]\n"
          ]
        },
        {
          "data": {
            "text/plain": [
              "array([[0.  , 0.  , 1.  ],\n",
              "       [0.25, 0.5 , 1.  ],\n",
              "       [1.  , 1.  , 1.  ],\n",
              "       [2.25, 1.5 , 1.  ],\n",
              "       [4.  , 2.  , 1.  ]])"
            ]
          },
          "execution_count": 8,
          "metadata": {},
          "output_type": "execute_result"
        }
      ],
      "source": [
        "x=np.linspace(0, 2, 5)\n",
        "print(x)\n",
        "np.vander(x, 3)"
      ]
    },
    {
      "cell_type": "code",
      "execution_count": null,
      "metadata": {
        "id": "A0Tix__zmy5n",
        "outputId": "0b57dc21-06b5-45c1-e71b-cd0632356b62"
      },
      "outputs": [
        {
          "data": {
            "text/plain": [
              "array([[ 1,  1,  1],\n",
              "       [ 4,  2,  1],\n",
              "       [ 9,  3,  1],\n",
              "       [16,  4,  1]])"
            ]
          },
          "execution_count": 7,
          "metadata": {},
          "output_type": "execute_result"
        }
      ],
      "source": [
        "np.vander([1, 2, 3, 4], 3)"
      ]
    },
    {
      "cell_type": "code",
      "execution_count": null,
      "metadata": {
        "id": "jjNsjShRmy5n",
        "outputId": "2dbf720f-2272-4b55-b407-ec8ce8160402"
      },
      "outputs": [
        {
          "data": {
            "text/plain": [
              "array([[ 1,  1,  1,  1],\n",
              "       [ 8,  4,  2,  1],\n",
              "       [27,  9,  3,  1],\n",
              "       [64, 16,  4,  1]])"
            ]
          },
          "execution_count": 14,
          "metadata": {},
          "output_type": "execute_result"
        }
      ],
      "source": [
        "np.vander((1, 2, 3, 4), 4)"
      ]
    },
    {
      "cell_type": "code",
      "execution_count": null,
      "metadata": {
        "id": "uwcSfJyCmy5n",
        "outputId": "46e0e173-7f52-4e71-e3f8-3949e1f272c0"
      },
      "outputs": [
        {
          "data": {
            "text/plain": [
              "array([[ 1,  1,  1,  1],\n",
              "       [ 1,  2,  4,  8],\n",
              "       [ 1,  3,  9, 27],\n",
              "       [ 1,  4, 16, 64]])"
            ]
          },
          "execution_count": 13,
          "metadata": {},
          "output_type": "execute_result"
        }
      ],
      "source": [
        "np.vander((1, 2, 3, 4), 4,increasing=True)"
      ]
    },
    {
      "cell_type": "markdown",
      "metadata": {
        "id": "ExMuaOE8my5n"
      },
      "source": [
        "# 2.3-General ndarray creation functions\n",
        "The ndarray creation functions e.g. numpy.ones, numpy.zeros, numpy.identity and numpy.empty define arrays based upon the desired shape.\n"
      ]
    },
    {
      "cell_type": "markdown",
      "metadata": {
        "id": "JHA959Dwmy5n"
      },
      "source": [
        "# numpy.ones\n",
        "numpy.ones Return a new array of given shape and type, filled with ones.\n",
        "1. Syntax:numpy.ones(shape, dtype=None, order='C', like=None)\n"
      ]
    },
    {
      "cell_type": "code",
      "execution_count": null,
      "metadata": {
        "id": "VM9yJUwXmy5n",
        "outputId": "abbc5f1c-aca4-40d0-e0e3-74c71cce95a7"
      },
      "outputs": [
        {
          "data": {
            "text/plain": [
              "array([[1., 1., 1.],\n",
              "       [1., 1., 1.]])"
            ]
          },
          "execution_count": 15,
          "metadata": {},
          "output_type": "execute_result"
        }
      ],
      "source": [
        "np.ones((2, 3))"
      ]
    },
    {
      "cell_type": "code",
      "execution_count": null,
      "metadata": {
        "id": "nCuab9mnmy5n",
        "outputId": "fa7255b3-0cc6-4838-c49a-711c68468253"
      },
      "outputs": [
        {
          "data": {
            "text/plain": [
              "array([[[1., 1.],\n",
              "        [1., 1.],\n",
              "        [1., 1.]],\n",
              "\n",
              "       [[1., 1.],\n",
              "        [1., 1.],\n",
              "        [1., 1.]]])"
            ]
          },
          "execution_count": 16,
          "metadata": {},
          "output_type": "execute_result"
        }
      ],
      "source": [
        "np.ones((2, 3, 2),dtype=np.float)"
      ]
    },
    {
      "cell_type": "markdown",
      "metadata": {
        "id": "jCKOQTiOmy5o"
      },
      "source": [
        "# numpy.zeros\n",
        "numpy.zeros Return a new array of given shape and type, filled with zeros.\n",
        "1. Syntax:numpy.zeros(shape, dtype=None, order='C', like=None)"
      ]
    },
    {
      "cell_type": "code",
      "execution_count": null,
      "metadata": {
        "id": "nmqTmir1my5o",
        "outputId": "a1db6405-5da5-4afa-eca8-ba0bb446cd5b"
      },
      "outputs": [
        {
          "data": {
            "text/plain": [
              "array([[0., 0., 0.],\n",
              "       [0., 0., 0.]])"
            ]
          },
          "execution_count": 17,
          "metadata": {},
          "output_type": "execute_result"
        }
      ],
      "source": [
        "np.zeros((2, 3))"
      ]
    },
    {
      "cell_type": "code",
      "execution_count": null,
      "metadata": {
        "id": "qbPxQEYcmy5o",
        "outputId": "603b17d7-025b-4cef-c359-2b552c68c45d"
      },
      "outputs": [
        {
          "data": {
            "text/plain": [
              "array([[[0., 0.],\n",
              "        [0., 0.],\n",
              "        [0., 0.]],\n",
              "\n",
              "       [[0., 0.],\n",
              "        [0., 0.],\n",
              "        [0., 0.]]])"
            ]
          },
          "execution_count": 18,
          "metadata": {},
          "output_type": "execute_result"
        }
      ],
      "source": [
        "np.zeros((2, 3, 2),dtype=np.float)"
      ]
    },
    {
      "cell_type": "markdown",
      "metadata": {
        "id": "jkGRRMbsmy5o"
      },
      "source": [
        "# numpy.identity\n",
        "numpy.identity Return the identity array\n",
        "1. Syntax: numpy.identity(n, dtype=None, like=None)"
      ]
    },
    {
      "cell_type": "code",
      "execution_count": null,
      "metadata": {
        "id": "TWKXd_MWmy5o",
        "outputId": "929c6f30-8a49-4e85-b979-f3c2b1ef59b2"
      },
      "outputs": [
        {
          "data": {
            "text/plain": [
              "array([[1., 0., 0.],\n",
              "       [0., 1., 0.],\n",
              "       [0., 0., 1.]])"
            ]
          },
          "execution_count": 19,
          "metadata": {},
          "output_type": "execute_result"
        }
      ],
      "source": [
        "np.identity(3)"
      ]
    },
    {
      "cell_type": "markdown",
      "metadata": {
        "id": "Nzd_G-Eumy5o"
      },
      "source": [
        "# numpy.empty\n",
        "numpy.empty return a new array of given shape and type, without initializing entries.\n",
        "1. Syntax: numpy.empty(shape, dtype=float, order='C', *, like=None)"
      ]
    },
    {
      "cell_type": "code",
      "execution_count": null,
      "metadata": {
        "id": "TBMOBwgFmy5u",
        "outputId": "fddbe41f-7b88-4295-8dce-e28d245ac434"
      },
      "outputs": [
        {
          "data": {
            "text/plain": [
              "array([[0. , 0.5, 1. , 1.5, 2. ]])"
            ]
          },
          "execution_count": 28,
          "metadata": {},
          "output_type": "execute_result"
        }
      ],
      "source": [
        "np.empty((1,5))"
      ]
    },
    {
      "cell_type": "markdown",
      "metadata": {
        "id": "KN2fclSdmy5v"
      },
      "source": [
        "# 3. Creating Arrays- Replicating, joining, or mutating existing arrays\n",
        "New arrays can be created from existing arrays using routines like numpy.concatenate, numpy.block, numpy.vstack, numpy.hstack"
      ]
    },
    {
      "cell_type": "markdown",
      "metadata": {
        "id": "mPwUYMeumy5v"
      },
      "source": [
        "# numpy.concatenate\n",
        "Join a sequence of arrays along an existing axis.\n",
        "1. Syntax: numpy.concatenate((a1, a2, …), axis=0, dtype=None, casting=\"same_kind\")\n"
      ]
    },
    {
      "cell_type": "code",
      "execution_count": null,
      "metadata": {
        "id": "OK5ov8Y7my5v",
        "outputId": "f8a9b4f0-69cb-44c7-914d-3845808bd8d3"
      },
      "outputs": [
        {
          "name": "stdout",
          "output_type": "stream",
          "text": [
            "[[1. 1.]\n",
            " [1. 1.]]\n",
            "[[0. 0.]\n",
            " [0. 0.]]\n"
          ]
        },
        {
          "data": {
            "text/plain": [
              "array([[1., 1., 0., 0.],\n",
              "       [1., 1., 0., 0.]])"
            ]
          },
          "execution_count": 10,
          "metadata": {},
          "output_type": "execute_result"
        }
      ],
      "source": [
        "A = np.ones((2, 2))\n",
        "print(A)\n",
        "B=np.zeros((2,2))\n",
        "print(B)\n",
        "np.concatenate((A,B),axis=1)"
      ]
    },
    {
      "cell_type": "markdown",
      "metadata": {
        "id": "45s5EES0my5v"
      },
      "source": [
        "# numpy.block\n",
        "Assemble an nd-array from nested lists of blocks.\n",
        "1. Syntax:numpy.block(arrays)"
      ]
    },
    {
      "cell_type": "code",
      "execution_count": null,
      "metadata": {
        "id": "ymczcor_my5v",
        "outputId": "1da4c671-5f35-41cf-ecde-95b5b380d96b"
      },
      "outputs": [
        {
          "data": {
            "text/plain": [
              "array([[1., 1., 0., 0.],\n",
              "       [1., 1., 0., 0.]])"
            ]
          },
          "execution_count": 32,
          "metadata": {},
          "output_type": "execute_result"
        }
      ],
      "source": [
        "np.block([A,B])"
      ]
    },
    {
      "cell_type": "markdown",
      "metadata": {
        "id": "AxEVzun3my5v"
      },
      "source": [
        "# numpy.vstack\n",
        "Stack arrays in sequence vertically\n",
        "1. Syntax: numpy.vstack((arrays))\n"
      ]
    },
    {
      "cell_type": "code",
      "execution_count": null,
      "metadata": {
        "id": "ZNYB6Kvxmy5v",
        "outputId": "2b60c2d6-d4f4-4deb-c1cf-a31350154e28"
      },
      "outputs": [
        {
          "data": {
            "text/plain": [
              "array([[1., 1.],\n",
              "       [1., 1.],\n",
              "       [0., 0.],\n",
              "       [0., 0.]])"
            ]
          },
          "execution_count": 33,
          "metadata": {},
          "output_type": "execute_result"
        }
      ],
      "source": [
        "np.vstack((A,B))\n"
      ]
    },
    {
      "cell_type": "markdown",
      "metadata": {
        "id": "K2xlqCbFmy5w"
      },
      "source": [
        "# numpy.hstack\n",
        "Stack arrays in sequence horizontally\n",
        "1. Syntax: numpy.hstack((arrays))"
      ]
    },
    {
      "cell_type": "code",
      "execution_count": null,
      "metadata": {
        "id": "U2oqvUzVmy5w",
        "outputId": "fbef7432-d103-45be-f72f-8b8bc646ad72"
      },
      "outputs": [
        {
          "data": {
            "text/plain": [
              "array([[1., 1., 0., 0.],\n",
              "       [1., 1., 0., 0.]])"
            ]
          },
          "execution_count": 34,
          "metadata": {},
          "output_type": "execute_result"
        }
      ],
      "source": [
        "np.hstack((A,B))\n"
      ]
    },
    {
      "cell_type": "markdown",
      "metadata": {
        "id": "XvirCENSmy5w"
      },
      "source": [
        "# 4. Creating Arrays from Disk\n",
        "1. Delimited files such as comma separated value (csv) and tab separated value (tsv) files are used for programs like Excel and LabView.\n",
        "2. NumPy has two standard routines for importing a file with delimited data numpy.loadtxt and numpy.genfromtxt"
      ]
    },
    {
      "cell_type": "markdown",
      "metadata": {
        "id": "jA_k3RT7my5w"
      },
      "source": [
        "# numpy.loadtxt\n",
        "1. numpy.loadtxt  Load data from a text file. Each row in the text file must have the same number of values.\n",
        "1. Syntax: numpy.loadtxt(fname, dtype=, delimiter=None,skiprows=0, usecols=None, unpack=False, ndmin=0, encoding='bytes', max_rows=None, *, like=None)"
      ]
    },
    {
      "cell_type": "code",
      "execution_count": null,
      "metadata": {
        "id": "2aFPMomgmy5w"
      },
      "outputs": [],
      "source": [
        "a=np.loadtxt('C:/Machine Learning/ML_Datasets/exam.txt',delimiter=',',dtype='str',skiprows=2,usecols=[0,2],max_rows=10)"
      ]
    },
    {
      "cell_type": "code",
      "execution_count": null,
      "metadata": {
        "id": "TioK-krGmy5w",
        "outputId": "2a3448c6-ec4c-4ab1-e828-905d04e65fe9"
      },
      "outputs": [
        {
          "data": {
            "text/plain": [
              "array([['-0.21371', '1'],\n",
              "       ['-0.375', '1'],\n",
              "       ['-0.51325', '1'],\n",
              "       ['-0.52477', '1'],\n",
              "       ['-0.39804', '1'],\n",
              "       ['-0.30588', '1'],\n",
              "       ['0.016705', '1'],\n",
              "       ['0.13191', '1'],\n",
              "       ['0.38537', '1'],\n",
              "       ['0.52938', '1']], dtype='<U8')"
            ]
          },
          "execution_count": 24,
          "metadata": {},
          "output_type": "execute_result"
        }
      ],
      "source": [
        "a"
      ]
    },
    {
      "cell_type": "markdown",
      "metadata": {
        "id": "Cf_2RULFmy5w"
      },
      "source": [
        "# numpy.genfromtxt\n",
        "1. When there are missing values in the file, then numpy.genfromtxt is used.\n",
        "2. Syntax: numpy.genfromtxt (fname, dtype=, comments='#', delimiter=None, skip_header=0, skip_footer=0, missing_values=None, filling_values=None, usecols=None, names=None, usemask=False, loose=True, max_rows=None, encoding='bytes’)"
      ]
    },
    {
      "cell_type": "code",
      "execution_count": null,
      "metadata": {
        "id": "cq1qSI79my5w"
      },
      "outputs": [],
      "source": [
        "a=np.genfromtxt('C:/Machine Learning/ML_Datasets/exam.txt',delimiter=',',filling_values=99,names=['test1','test2','score'],skip_header=1)\n"
      ]
    },
    {
      "cell_type": "code",
      "execution_count": null,
      "metadata": {
        "id": "26tCtSxQmy5w",
        "outputId": "119a610b-9dfc-465f-f59a-7887ca2e0a5e"
      },
      "outputs": [
        {
          "data": {
            "text/plain": [
              "array([(-0.092742 ,  0.68494 ,  1.), (-0.21371  ,  0.69225 ,  1.),\n",
              "       (-0.375    ,  0.50219 ,  1.), (-0.51325  ,  0.46564 ,  1.),\n",
              "       (-0.52477  ,  0.2098  ,  1.), (-0.39804  ,  0.034357,  1.),\n",
              "       (-0.30588  , -0.19225 ,  1.), ( 0.016705 , -0.40424 ,  1.),\n",
              "       ( 0.13191  , -0.51389 ,  1.), ( 0.38537  , -0.56506 ,  1.),\n",
              "       ( 0.52938  , -0.5212  ,  1.), ( 0.63882  , -0.24342 ,  1.),\n",
              "       ( 0.73675  , -0.18494 ,  1.), ( 0.54666  ,  0.48757 ,  1.),\n",
              "       ( 0.322    ,  0.5826  , 99.), ( 0.16647  ,  0.53874 ,  1.),\n",
              "       (-0.046659 ,  0.81652 ,  1.), (-0.17339  ,  0.69956 ,  1.),\n",
              "       (-0.47869  ,  0.63377 ,  1.), (-0.60541  ,  0.59722 ,  1.),\n",
              "       (-0.62846  ,  0.33406 ,  1.), (-0.59389  ,  0.005117,  1.),\n",
              "       (-0.42108  , -0.27266 ,  1.), (-0.11578  , -0.39693 ,  1.),\n",
              "       ( 0.20104  , -0.60161 ,  1.), ( 0.46601  , -0.53582 ,  1.),\n",
              "       ( 0.67339  , -0.53582 ,  1.), (-0.13882  ,  0.54605 ,  1.),\n",
              "       (-0.29435  ,  0.77997 ,  1.), (-0.26555  ,  0.96272 ,  1.),\n",
              "       (-0.16187  ,  0.8019  ,  1.), (-0.17339  ,  0.64839 ,  1.),\n",
              "       (-0.28283  ,  0.47295 ,  1.), (-0.36348  ,  0.31213 ,  1.),\n",
              "       (-0.30012  ,  0.027047,  1.), (-0.23675  , -0.21418 ,  1.),\n",
              "       (-0.06394  , -0.18494 ,  1.), ( 0.062788 , -0.16301 ,  1.),\n",
              "       ( 0.22984  , -0.41155 ,  1.), ( 0.2932   , -0.2288  ,  1.),\n",
              "       ( 0.48329  , -0.18494 ,  1.), ( 0.64459  , -0.14108 ,  1.),\n",
              "       ( 0.46025  ,  0.012427,  1.), ( 0.6273   ,  0.15863 ,  1.),\n",
              "       ( 0.57546  ,  0.26827 ,  1.), ( 0.72523  ,  0.44371 ,  1.),\n",
              "       ( 0.22408  ,  0.52412 ,  1.), ( 0.44297  ,  0.67032 ,  1.),\n",
              "       ( 0.322    ,  0.69225 ,  1.), ( 0.13767  ,  0.57529 ,  1.),\n",
              "       (-0.0063364,  0.39985 ,  1.), (-0.092742 ,  0.55336 ,  1.),\n",
              "       (-0.20795  ,  0.35599 ,  1.), (-0.20795  ,  0.17325 ,  1.),\n",
              "       (-0.43836  ,  0.21711 ,  1.), (-0.21947  , -0.016813,  1.),\n",
              "       (-0.13882  , -0.27266 ,  1.), ( 0.18376  ,  0.93348 ,  0.),\n",
              "       ( 0.22408  ,  0.77997 ,  0.), ( 0.29896  ,  0.61915 ,  0.),\n",
              "       ( 0.50634  ,  0.75804 ,  0.), ( 0.61578  ,  0.7288  ,  0.),\n",
              "       ( 0.60426  ,  0.59722 ,  0.), ( 0.76555  ,  0.50219 ,  0.),\n",
              "       ( 0.92684  ,  0.3633  ,  0.), ( 0.82316  ,  0.27558 ,  0.),\n",
              "       ( 0.96141  ,  0.085526,  0.), ( 0.93836  ,  0.012427,  0.),\n",
              "       ( 0.86348  , -0.082602,  0.), ( 0.89804  , -0.20687 ,  0.),\n",
              "       ( 0.85196  , -0.36769 ,  0.), ( 0.82892  , -0.5212  ,  0.),\n",
              "       ( 0.79435  , -0.55775 ,  0.), ( 0.59274  , -0.7405  ,  0.),\n",
              "       ( 0.51786  , -0.5943  ,  0.), ( 0.46601  , -0.41886 ,  0.),\n",
              "       ( 0.35081  , -0.57968 ,  0.), ( 0.28744  , -0.76974 ,  0.),\n",
              "       ( 0.085829 , -0.75512 ,  0.), ( 0.14919  , -0.57968 ,  0.),\n",
              "       (-0.13306  , -0.4481  ,  0.), (-0.40956  , -0.41155 ,  0.),\n",
              "       (-0.39228  , -0.25804 ,  0.), (-0.74366  , -0.25804 ,  0.),\n",
              "       (-0.69758  ,  0.041667,  0.), (-0.75518  ,  0.2902  ,  0.),\n",
              "       (-0.69758  ,  0.68494 ,  0.), (-0.4038   ,  0.70687 ,  0.),\n",
              "       (-0.38076  ,  0.91886 ,  0.), (-0.50749  ,  0.90424 ,  0.),\n",
              "       (-0.54781  ,  0.70687 ,  0.), ( 0.10311  ,  0.77997 ,  0.),\n",
              "       ( 0.057028 ,  0.91886 ,  0.), (-0.10426  ,  0.99196 ,  0.),\n",
              "       (-0.081221 ,  1.1089  ,  0.), ( 0.28744  ,  1.087   ,  0.),\n",
              "       ( 0.39689  ,  0.82383 ,  0.), ( 0.63882  ,  0.88962 ,  0.),\n",
              "       ( 0.82316  ,  0.66301 ,  0.), ( 0.67339  ,  0.64108 ,  0.),\n",
              "       ( 1.0709   ,  0.10015 ,  0.), (-0.046659 , -0.57968 ,  0.),\n",
              "       (-0.23675  , -0.63816 ,  0.), (-0.15035  , -0.36769 ,  0.),\n",
              "       (-0.49021  , -0.3019  ,  0.), (-0.46717  , -0.13377 ,  0.),\n",
              "       (-0.28859  , -0.060673,  0.), (-0.61118  , -0.067982,  0.),\n",
              "       (-0.66302  , -0.21418 ,  0.), (-0.59965  , -0.41886 ,  0.),\n",
              "       (-0.72638  , -0.082602,  0.), (-0.83007  ,  0.31213 ,  0.),\n",
              "       (-0.72062  ,  0.53874 ,  0.), (-0.59389  ,  0.49488 ,  0.),\n",
              "       (-0.48445  ,  0.99927 ,  0.), (-0.0063364,  0.99927 ,  0.),\n",
              "       ( 0.63265  , -0.030612,  0.)],\n",
              "      dtype=[('test1', '<f8'), ('test2', '<f8'), ('score', '<f8')])"
            ]
          },
          "execution_count": 30,
          "metadata": {},
          "output_type": "execute_result"
        }
      ],
      "source": [
        "a"
      ]
    },
    {
      "cell_type": "markdown",
      "metadata": {
        "id": "aDqwZxDBmy5w"
      },
      "source": [
        "# 5. Creating Arrays- Using Random Sampling\n",
        "numpy.random.rand   Create an array of the given shape and populate it with random samples from a uniform distribution over [0, 1)\n",
        " 1. Syntax: random.rand(d0, d1, ..., dn)\n",
        " where d0, d1, …, dnint, optional"
      ]
    },
    {
      "cell_type": "code",
      "execution_count": null,
      "metadata": {
        "id": "2H9hKJMvmy5w",
        "outputId": "f71b9586-a957-45d1-d318-1a84226417b2"
      },
      "outputs": [
        {
          "data": {
            "text/plain": [
              "array([[0.61439077, 0.09107385, 0.46559313],\n",
              "       [0.97424018, 0.26366128, 0.60711341]])"
            ]
          },
          "execution_count": 16,
          "metadata": {},
          "output_type": "execute_result"
        }
      ],
      "source": [
        "np.random.rand(2,3)"
      ]
    },
    {
      "cell_type": "code",
      "execution_count": null,
      "metadata": {
        "id": "a95xF1Bsmy5x",
        "outputId": "1c08aa8f-c9a5-4053-e940-db36d9e3d036"
      },
      "outputs": [
        {
          "data": {
            "text/plain": [
              "array([[-0.12579905,  0.74063798, -0.78023859],\n",
              "       [-0.05990145,  0.14777583, -0.03168951]])"
            ]
          },
          "execution_count": 22,
          "metadata": {},
          "output_type": "execute_result"
        }
      ],
      "source": [
        "np.random.randn(2,3)"
      ]
    },
    {
      "cell_type": "markdown",
      "metadata": {
        "id": "GtqvWULCmy5x"
      },
      "source": [
        "# Misc Random Functions\n",
        "Besides random.rand numpy provodes functions like random.randn, random.randint, random.randintegers, etc."
      ]
    },
    {
      "cell_type": "code",
      "execution_count": null,
      "metadata": {
        "id": "0pzj0U4Emy5x",
        "outputId": "a19f1ede-a2f3-473b-ba76-c59e29aa2e16"
      },
      "outputs": [
        {
          "data": {
            "text/plain": [
              "array([[1, 9, 4],\n",
              "       [1, 5, 0]])"
            ]
          },
          "execution_count": 32,
          "metadata": {},
          "output_type": "execute_result"
        }
      ],
      "source": [
        "np.random.randint(10,size=(2,3))"
      ]
    },
    {
      "cell_type": "code",
      "execution_count": null,
      "metadata": {
        "id": "GT5Dg9KNmy5x"
      },
      "outputs": [],
      "source": []
    }
  ],
  "metadata": {
    "kernelspec": {
      "display_name": "Python 3",
      "language": "python",
      "name": "python3"
    },
    "language_info": {
      "codemirror_mode": {
        "name": "ipython",
        "version": 3
      },
      "file_extension": ".py",
      "mimetype": "text/x-python",
      "name": "python",
      "nbconvert_exporter": "python",
      "pygments_lexer": "ipython3",
      "version": "3.7.6"
    },
    "colab": {
      "provenance": []
    }
  },
  "nbformat": 4,
  "nbformat_minor": 0
}
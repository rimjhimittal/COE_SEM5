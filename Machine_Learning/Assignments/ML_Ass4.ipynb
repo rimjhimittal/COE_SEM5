{
 "cells": [
  {
   "cell_type": "markdown",
   "id": "6e86fa0c",
   "metadata": {},
   "source": [
    "## Analysis of Hitters Dataset"
   ]
  },
  {
   "cell_type": "markdown",
   "id": "0ee1b8d0",
   "metadata": {},
   "source": [
    "### 1. Pre-process the data"
   ]
  },
  {
   "cell_type": "code",
   "execution_count": null,
   "id": "4713785d",
   "metadata": {},
   "outputs": [],
   "source": [
    "import pandas as pd\n",
    "\n",
    "# Load the dataset\n",
    "data = pd.read_csv('/mnt/data/Hitters.csv')\n",
    "data.head()"
   ]
  },
  {
   "cell_type": "markdown",
   "id": "4e29f667",
   "metadata": {},
   "source": [
    "#### Handle missing values and encode categorical columns"
   ]
  },
  {
   "cell_type": "code",
   "execution_count": null,
   "id": "c7bc3fe1",
   "metadata": {},
   "outputs": [],
   "source": [
    "\n",
    "from sklearn.preprocessing import LabelEncoder\n",
    "\n",
    "# Drop rows with missing target values\n",
    "data.dropna(subset=['Salary'], inplace=True)\n",
    "\n",
    "# Convert categorical columns to numerical values\n",
    "label_encoders = {}\n",
    "categorical_columns = ['League', 'Division', 'NewLeague']\n",
    "\n",
    "for col in categorical_columns:\n",
    "    le = LabelEncoder()\n",
    "    data[col] = le.fit_transform(data[col])\n",
    "    label_encoders[col] = le\n",
    "\n",
    "data.head()\n"
   ]
  },
  {
   "cell_type": "markdown",
   "id": "7950fd29",
   "metadata": {},
   "source": [
    "### 2. Separate input and output features, and scale them"
   ]
  },
  {
   "cell_type": "code",
   "execution_count": null,
   "id": "b934341c",
   "metadata": {},
   "outputs": [],
   "source": [
    "\n",
    "from sklearn.model_selection import train_test_split\n",
    "from sklearn.preprocessing import StandardScaler\n",
    "\n",
    "# Separate input and output features, and scale them\n",
    "X = data.drop('Salary', axis=1)\n",
    "y = data['Salary']\n",
    "\n",
    "# Splitting data into training and test sets\n",
    "X_train, X_test, y_train, y_test = train_test_split(X, y, test_size=0.2, random_state=42)\n",
    "\n",
    "# Scaling the features\n",
    "scaler = StandardScaler()\n",
    "X_train_scaled = scaler.fit_transform(X_train)\n",
    "X_test_scaled = scaler.transform(X_test)\n",
    "\n",
    "X_train_scaled[:5], y_train.head()\n"
   ]
  },
  {
   "cell_type": "markdown",
   "id": "9baffe25",
   "metadata": {},
   "source": [
    "### 3. Fit Linear, Ridge, and LASSO regression models"
   ]
  },
  {
   "cell_type": "code",
   "execution_count": null,
   "id": "0f7e5d92",
   "metadata": {},
   "outputs": [],
   "source": [
    "\n",
    "from sklearn.linear_model import LinearRegression, Ridge, Lasso\n",
    "from sklearn.metrics import mean_squared_error\n",
    "\n",
    "# Initialize the models\n",
    "linear_reg = LinearRegression()\n",
    "ridge_reg = Ridge(alpha=0.5748)\n",
    "lasso_reg = Lasso(alpha=0.5748)\n",
    "\n",
    "# Fit the models\n",
    "linear_reg.fit(X_train_scaled, y_train)\n",
    "ridge_reg.fit(X_train_scaled, y_train)\n",
    "lasso_reg.fit(X_train_scaled, y_train)\n",
    "\n",
    "# Predictions\n",
    "y_pred_linear = linear_reg.predict(X_test_scaled)\n",
    "y_pred_ridge = ridge_reg.predict(X_test_scaled)\n",
    "y_pred_lasso = lasso_reg.predict(X_test_scaled)\n",
    "\n",
    "# Calculate MSE for each model\n",
    "mse_linear = mean_squared_error(y_test, y_pred_linear)\n",
    "mse_ridge = mean_squared_error(y_test, y_pred_ridge)\n",
    "mse_lasso = mean_squared_error(y_test, y_pred_lasso)\n",
    "\n",
    "mse_linear, mse_ridge, mse_lasso\n"
   ]
  },
  {
   "cell_type": "markdown",
   "id": "f2a5309b",
   "metadata": {},
   "source": [
    "### 4. Conclusion"
   ]
  },
  {
   "cell_type": "markdown",
   "id": "25c3335b",
   "metadata": {},
   "source": [
    "From the results, Ridge Regression performs the best on the test set among the three models."
   ]
  }
 ],
 "metadata": {},
 "nbformat": 4,
 "nbformat_minor": 5
}
